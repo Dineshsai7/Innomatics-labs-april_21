{
 "cells": [
  {
   "cell_type": "code",
   "execution_count": 6,
   "id": "7b3cad7b",
   "metadata": {},
   "outputs": [
    {
     "name": "stdin",
     "output_type": "stream",
     "text": [
      " viB\n"
     ]
    },
    {
     "name": "stdout",
     "output_type": "stream",
     "text": [
      "VIb\n"
     ]
    }
   ],
   "source": [
    "#Question1 sWaP CaSe\n",
    "def swap_case(s):\n",
    "    a=[]\n",
    "    for i in range(len(s)):\n",
    "        a.append( s[i].swapcase())\n",
    "    return ''.join(a)\n",
    "if __name__ == '__main__':\n",
    "    s = str(input())\n",
    "    result = swap_case(s)\n",
    "    print(result)"
   ]
  },
  {
   "cell_type": "code",
   "execution_count": 8,
   "id": "69f46b7e",
   "metadata": {},
   "outputs": [
    {
     "data": {
      "text/plain": [
       "'this is a string'"
      ]
     },
     "execution_count": 8,
     "metadata": {},
     "output_type": "execute_result"
    }
   ],
   "source": [
    "#question 2 String Split and Join\n",
    "def split_and_join(line):\n",
    "    line=line.split(' ')\n",
    "    return \"-\".join(line)\n",
    "if __name__ == '__main__':\n",
    "    line = input()\n",
    "    result = split_and_join(line)\n",
    "    print(result)"
   ]
  },
  {
   "cell_type": "code",
   "execution_count": null,
   "id": "3a3f852f",
   "metadata": {},
   "outputs": [],
   "source": [
    "#Question 3 What's your name?\n",
    "def print_full_name(first, last):\n",
    "    # Write your code here\n",
    "    print( 'Hello {} {}! You just delved into python.'.format(first,last))\n",
    "if __name__ == '__main__':\n",
    "    first_name = input()\n",
    "    last_name = input()\n",
    "    print_full_name(first_name, last_name)"
   ]
  },
  {
   "cell_type": "code",
   "execution_count": 9,
   "id": "01746971",
   "metadata": {},
   "outputs": [],
   "source": [
    "#Question 4 Mutations\n",
    "def mutate_string(string, position, character):\n",
    "    return string[:position]+character+string[position+1:]\n",
    "\n",
    "if __name__ == '__main__':\n",
    "    s = input()\n",
    "    i, c = input().split()\n",
    "    s_new = mutate_string(s, int(i), c)\n",
    "    print(s_new)"
   ]
  },
  {
   "cell_type": "code",
   "execution_count": 33,
   "id": "870b2015",
   "metadata": {},
   "outputs": [
    {
     "name": "stdin",
     "output_type": "stream",
     "text": [
      " is\n"
     ]
    }
   ],
   "source": [
    "#Question 5 Find a string\n",
    "def count_substring(string, sub_string):\n",
    "    count=0\n",
    "    for i in range(len(string)):\n",
    "        if sub_string[:len(sub_string)] == string[i:i+len(sub_string)]:\n",
    "             count=count+1\n",
    "    return count\n",
    "    \n",
    "\n",
    "if __name__ == '__main__':\n",
    "    string = input().strip()\n",
    "    sub_string = input().strip()\n",
    "    \n",
    "    count = count_substring(string, sub_string)\n",
    "    print(count)"
   ]
  },
  {
   "cell_type": "code",
   "execution_count": 32,
   "id": "208cb9a1",
   "metadata": {},
   "outputs": [
    {
     "name": "stdin",
     "output_type": "stream",
     "text": [
      " ThIsisCoNfUsInG\n"
     ]
    }
   ],
   "source": [
    "#question 6 String Validators\n",
    "if __name__ == '__main__':\n",
    "    s = input()\n",
    "    print(any(i.isalnum() for i in s))\n",
    "    print(any(i.isalpha() for i in s))\n",
    "    print(any(i.isdigit() for i in s))\n",
    "    print(any(i.islower() for i in s))\n",
    "    print(any(i.isupper() for i in s))"
   ]
  },
  {
   "cell_type": "code",
   "execution_count": 34,
   "id": "5db8eebf",
   "metadata": {},
   "outputs": [],
   "source": [
    "#Question 7 Text alignment\n",
    "thickness = int(input()) #This must be an odd number\n",
    "c = 'H'\n",
    "\n",
    "#Top Cone\n",
    "for i in range(thickness):\n",
    "    print((c*i).rjust(thickness-1)+c+(c*i).ljust(thickness-1))\n",
    "\n",
    "#Top Pillars\n",
    "for i in range(thickness+1):\n",
    "    print((c*thickness).center(thickness*2)+(c*thickness).center(thickness*6))\n",
    "\n",
    "#Middle Belt\n",
    "for i in range((thickness+1)//2):\n",
    "    print((c*thickness*5).center(thickness*6))    \n",
    "\n",
    "#Bottom Pillars\n",
    "for i in range(thickness+1):\n",
    "    print((c*thickness).center(thickness*2)+(c*thickness).center(thickness*6))    \n",
    "\n",
    "#Bottom Cone\n",
    "for i in range(thickness):\n",
    "    print(((c*(thickness-i-1)).rjust(thickness)+c+(c*(thickness-i-1)).ljust(thickness)).rjust(thickness*6))"
   ]
  },
  {
   "cell_type": "code",
   "execution_count": 35,
   "id": "6e05c4a3",
   "metadata": {},
   "outputs": [
    {
     "data": {
      "text/plain": [
       "0"
      ]
     },
     "execution_count": 35,
     "metadata": {},
     "output_type": "execute_result"
    }
   ],
   "source": [
    "#Question 8 Text Wrapper\n",
    "import textwrap\n",
    "\n",
    "def wrap(string, max_width):\n",
    "    l= list()\n",
    "    for i in range(0,len(string),max_width): \n",
    "        l.append(string[i:i+max_width])\n",
    "    return \"\\n\".join(l)\n",
    "    \n",
    "if __name__ == '__main__':\n",
    "    string, max_width = input(), int(input())\n",
    "    result = wrap(string, max_width)\n",
    "    print(result)"
   ]
  },
  {
   "cell_type": "code",
   "execution_count": 36,
   "id": "6b778889",
   "metadata": {},
   "outputs": [
    {
     "data": {
      "text/plain": [
       "'is'"
      ]
     },
     "execution_count": 36,
     "metadata": {},
     "output_type": "execute_result"
    }
   ],
   "source": [
    "#Question 9 string formatting\n",
    "def print_formatted(number):\n",
    "    # your code goes here\n",
    "\n",
    "    list1 = []\n",
    "    \n",
    "    for i in range(1, number+1):\n",
    "        decimal = str(i)\n",
    "        octal = str(oct(i)[2:])\n",
    "        hex_ = str(hex(i)[2:]).upper()\n",
    "        binary = str(bin(i)[2:])\n",
    "\n",
    "        list1.append([decimal, octal, hex_, binary])\n",
    "\n",
    "    width = len(list1[-1][3])  # largest binary number\n",
    "\n",
    "    for i in list1:\n",
    "        print(*(rep.rjust(width) for rep in i))\n",
    "if __name__ == '__main__':\n",
    "    n = int(input())\n",
    "    print_formatted(n)"
   ]
  },
  {
   "cell_type": "code",
   "execution_count": 37,
   "id": "942345e8",
   "metadata": {},
   "outputs": [
    {
     "data": {
      "text/plain": [
       "'hIs'"
      ]
     },
     "execution_count": 37,
     "metadata": {},
     "output_type": "execute_result"
    }
   ],
   "source": [
    "#Question 10 designer door mat\n",
    "N, M = map(int,input().split())\n",
    "for i in range(1,N,2): \n",
    "    print((i * \".|.\").center(M, \"-\"))\n",
    "print(\"WELCOME\".center(M,\"-\"))\n",
    "for i in range(N-2,-1,-2): \n",
    "    print((i * \".|.\").center(M, \"-\"))"
   ]
  },
  {
   "cell_type": "code",
   "execution_count": 38,
   "id": "3010a071",
   "metadata": {},
   "outputs": [
    {
     "name": "stdin",
     "output_type": "stream",
     "text": [
      " hggljg\n"
     ]
    },
    {
     "name": "stdout",
     "output_type": "stream",
     "text": [
      "hggljg6"
     ]
    }
   ],
   "source": [
    "#Question 11 Alphabet Rangoli\n",
    "import string\n",
    "def print_rangoli(size):\n",
    "    width = 4 * size - 3\n",
    "    alpha = string.ascii_lowercase\n",
    "    for i in list(range(size))[::-1] + list(range(1, size)):\n",
    "        print('-'.join(alpha[size-1:i:-1] + alpha[i:size]).center(width, '-'))\n",
    "if __name__ == '__main__':\n",
    "    n = int(input())\n",
    "    print_rangoli(n)"
   ]
  },
  {
   "cell_type": "code",
   "execution_count": 52,
   "id": "0832bf91",
   "metadata": {},
   "outputs": [
    {
     "name": "stdin",
     "output_type": "stream",
     "text": [
      " sSsf dwdw\n"
     ]
    }
   ],
   "source": [
    "#Question 12 Capitalize\n",
    "def solve(s):\n",
    "    list1=list()\n",
    "    f=s[:].split(' ')\n",
    "    for i in range(0,len(f)):\n",
    "        s=str()\n",
    "        s=s+f[i]\n",
    "        t=s.capitalize()\n",
    "        list1.append(t)\n",
    "    return (\" \".join(list1))\n",
    "\n",
    "if __name__ == '__main__':\n",
    "    fptr = open(os.environ['OUTPUT_PATH'], 'w')\n",
    "\n",
    "    s = input()\n",
    "\n",
    "    result = solve(s)\n",
    "\n",
    "    fptr.write(result + '\\n')\n",
    "\n",
    "    fptr.close()\n"
   ]
  },
  {
   "cell_type": "code",
   "execution_count": 53,
   "id": "0287d33d",
   "metadata": {},
   "outputs": [],
   "source": [
    "#Question 13 The minion game\n",
    "def minion_game(string):\n",
    "    vowels = 'AEIOU'\n",
    "    kev = 0\n",
    "    stu = 0\n",
    "    for i in range(len(string)):\n",
    "        if s[i] in vowels:\n",
    "            kev += (len(s)-i)\n",
    "        else:\n",
    "            stu += (len(s)-i)\n",
    "\n",
    "    if kev > stu:\n",
    "        print (\"Kevin\", kev)\n",
    "    elif kev < stu:\n",
    "        print (\"Stuart\", stu)\n",
    "    else:\n",
    "        print (\"Draw\")\n",
    "if __name__ == '__main__':\n",
    "    s = input()\n",
    "    minion_game(s)"
   ]
  },
  {
   "cell_type": "code",
   "execution_count": 51,
   "id": "b8c9ed09",
   "metadata": {},
   "outputs": [
    {
     "data": {
      "text/plain": [
       "\"['dnkzs', 'afnkaf']\""
      ]
     },
     "execution_count": 51,
     "metadata": {},
     "output_type": "execute_result"
    }
   ],
   "source": [
    "#Question 13 Merge the tools\n",
    "def merge_the_tools(string, k):\n",
    "    # your code goes here\n",
    "\n",
    "    list = []\n",
    "    N = 0\n",
    "    for item in string:\n",
    "        N += 1\n",
    "        if item not in list:\n",
    "            list.append(item)\n",
    "        if N == k:\n",
    "            print (''.join(list))\n",
    "            list = []\n",
    "            N = 0\n",
    "\n",
    "if __name__ == '__main__':\n",
    "    string, k = input(), int(input())\n",
    "    merge_the_tools(string, k)"
   ]
  },
  {
   "cell_type": "code",
   "execution_count": 60,
   "id": "0df751e3",
   "metadata": {},
   "outputs": [],
   "source": [
    "s=str(s)"
   ]
  },
  {
   "cell_type": "code",
   "execution_count": 49,
   "id": "d8eb22ce",
   "metadata": {},
   "outputs": [
    {
     "data": {
      "text/plain": [
       "\"['dnkzs', 'afnkaf']\""
      ]
     },
     "execution_count": 49,
     "metadata": {},
     "output_type": "execute_result"
    }
   ],
   "source": [
    "s"
   ]
  },
  {
   "cell_type": "code",
   "execution_count": 61,
   "id": "6986a36b",
   "metadata": {},
   "outputs": [
    {
     "name": "stdin",
     "output_type": "stream",
     "text": [
      " hello   world  lol\n"
     ]
    }
   ],
   "source": [
    "s = input()\n",
    "# for x in s[:].split():\n",
    "#     s = s.replace(x, x.capitalize())\n",
    "# print(s)"
   ]
  },
  {
   "cell_type": "code",
   "execution_count": 62,
   "id": "e418d37d",
   "metadata": {},
   "outputs": [],
   "source": [
    "f=s[:].split()"
   ]
  },
  {
   "cell_type": "code",
   "execution_count": 63,
   "id": "5cd1fa2b",
   "metadata": {},
   "outputs": [],
   "source": [
    "l=len(f)"
   ]
  },
  {
   "cell_type": "code",
   "execution_count": 6,
   "id": "67b9c66d",
   "metadata": {},
   "outputs": [
    {
     "ename": "TypeError",
     "evalue": "capitalize() takes no arguments (1 given)",
     "output_type": "error",
     "traceback": [
      "\u001b[1;31m---------------------------------------------------------------------------\u001b[0m",
      "\u001b[1;31mTypeError\u001b[0m                                 Traceback (most recent call last)",
      "\u001b[1;32m<ipython-input-6-b60cf57580d3>\u001b[0m in \u001b[0;36m<module>\u001b[1;34m\u001b[0m\n\u001b[1;32m----> 1\u001b[1;33m \u001b[0ms\u001b[0m\u001b[1;33m.\u001b[0m\u001b[0mreplace\u001b[0m\u001b[1;33m(\u001b[0m\u001b[0ms\u001b[0m\u001b[1;33m,\u001b[0m\u001b[0ms\u001b[0m\u001b[1;33m.\u001b[0m\u001b[0mcapitalize\u001b[0m\u001b[1;33m(\u001b[0m\u001b[1;34m' '\u001b[0m\u001b[1;33m)\u001b[0m\u001b[1;33m)\u001b[0m\u001b[1;33m\u001b[0m\u001b[1;33m\u001b[0m\u001b[0m\n\u001b[0m",
      "\u001b[1;31mTypeError\u001b[0m: capitalize() takes no arguments (1 given)"
     ]
    }
   ],
   "source": [
    "s.replace(s,s.capitalize())"
   ]
  },
  {
   "cell_type": "code",
   "execution_count": 64,
   "id": "358c4c0e",
   "metadata": {},
   "outputs": [
    {
     "name": "stdout",
     "output_type": "stream",
     "text": [
      "hello\n",
      "world\n",
      "lol\n",
      "Hello World Lol\n"
     ]
    }
   ],
   "source": [
    "list1=list()\n",
    "for i in range(0,len(f)):\n",
    "    s=str()\n",
    "    s=s+f[i]\n",
    "    print(s)\n",
    "    t=s.capitalize()\n",
    "    list1.append(t)\n",
    "print(\" \".join(list1))"
   ]
  },
  {
   "cell_type": "code",
   "execution_count": 67,
   "id": "97368b98",
   "metadata": {},
   "outputs": [
    {
     "name": "stdin",
     "output_type": "stream",
     "text": [
      " hello world lol\n"
     ]
    },
    {
     "name": "stdout",
     "output_type": "stream",
     "text": [
      "Hello World Lol\n"
     ]
    }
   ],
   "source": [
    "\n",
    "def solve(s):\n",
    "    list1=list()\n",
    "    f=s[:].split(' ')\n",
    "    for i in range(0,len(f)):\n",
    "        s=str()\n",
    "        s=s+f[i]\n",
    "        t=s.capitalize()\n",
    "        list1.append(t)\n",
    "    return (\" \".join(list1))\n",
    "\n",
    "if __name__ == '__main__':\n",
    "    fptr = open(os.environ['OUTPUT_PATH'], 'w')\n",
    "\n",
    "    s = input()\n",
    "\n",
    "    result = solve(s)\n",
    "\n",
    "    fptr.write(result + '\\n')\n",
    "\n",
    "    fptr.close()\n"
   ]
  },
  {
   "cell_type": "code",
   "execution_count": 49,
   "id": "9feca4bc",
   "metadata": {},
   "outputs": [
    {
     "data": {
      "text/plain": [
       "['Dw',\n",
       " 'Dwd',\n",
       " 'Dw',\n",
       " 'Dwd',\n",
       " 'Dw',\n",
       " 'Dwd',\n",
       " 'Dw',\n",
       " 'Dwd',\n",
       " 'Dw',\n",
       " 'Dwd',\n",
       " 'Dw',\n",
       " 'Dwd',\n",
       " 'Dw',\n",
       " 'Dw',\n",
       " 'Dwd',\n",
       " 'Dw',\n",
       " 'Dwd',\n",
       " 'Dw',\n",
       " 'Dwd',\n",
       " 'Dw',\n",
       " 'Dw',\n",
       " 'Dwd']"
      ]
     },
     "execution_count": 49,
     "metadata": {},
     "output_type": "execute_result"
    }
   ],
   "source": [
    "list1"
   ]
  },
  {
   "cell_type": "code",
   "execution_count": 18,
   "id": "6f5f1252",
   "metadata": {},
   "outputs": [],
   "source": [
    "list2=list()\n",
    "list2.append(2)"
   ]
  },
  {
   "cell_type": "code",
   "execution_count": 24,
   "id": "27c7d7d1",
   "metadata": {},
   "outputs": [
    {
     "data": {
      "text/plain": [
       "2"
      ]
     },
     "execution_count": 24,
     "metadata": {},
     "output_type": "execute_result"
    }
   ],
   "source": [
    "len(f)"
   ]
  },
  {
   "cell_type": "code",
   "execution_count": 28,
   "id": "7022f405",
   "metadata": {},
   "outputs": [
    {
     "data": {
      "text/plain": [
       "['dw', 'dwD']"
      ]
     },
     "execution_count": 28,
     "metadata": {},
     "output_type": "execute_result"
    }
   ],
   "source": [
    "f"
   ]
  },
  {
   "cell_type": "code",
   "execution_count": 57,
   "id": "306c0eeb",
   "metadata": {},
   "outputs": [
    {
     "ename": "SyntaxError",
     "evalue": "invalid syntax (<ipython-input-57-611e1df1149d>, line 1)",
     "output_type": "error",
     "traceback": [
      "\u001b[1;36m  File \u001b[1;32m\"<ipython-input-57-611e1df1149d>\"\u001b[1;36m, line \u001b[1;32m1\u001b[0m\n\u001b[1;33m    880 73.36\u001b[0m\n\u001b[1;37m        ^\u001b[0m\n\u001b[1;31mSyntaxError\u001b[0m\u001b[1;31m:\u001b[0m invalid syntax\n"
     ]
    }
   ],
   "source": [
    "880 73.36\n",
    "882 74."
   ]
  },
  {
   "cell_type": "code",
   "execution_count": 58,
   "id": "4466fa37",
   "metadata": {},
   "outputs": [
    {
     "data": {
      "text/plain": [
       "11345"
      ]
     },
     "execution_count": 58,
     "metadata": {},
     "output_type": "execute_result"
    }
   ],
   "source": [
    "11345"
   ]
  },
  {
   "cell_type": "code",
   "execution_count": 59,
   "id": "9e843200",
   "metadata": {},
   "outputs": [
    {
     "data": {
      "text/plain": [
       "3473"
      ]
     },
     "execution_count": 59,
     "metadata": {},
     "output_type": "execute_result"
    }
   ],
   "source": [
    "2501+972"
   ]
  },
  {
   "cell_type": "code",
   "execution_count": null,
   "id": "1351a2c4",
   "metadata": {},
   "outputs": [],
   "source": []
  }
 ],
 "metadata": {
  "kernelspec": {
   "display_name": "Python 3",
   "language": "python",
   "name": "python3"
  },
  "language_info": {
   "codemirror_mode": {
    "name": "ipython",
    "version": 3
   },
   "file_extension": ".py",
   "mimetype": "text/x-python",
   "name": "python",
   "nbconvert_exporter": "python",
   "pygments_lexer": "ipython3",
   "version": "3.8.3"
  }
 },
 "nbformat": 4,
 "nbformat_minor": 5
}
