{
 "cells": [
  {
   "cell_type": "code",
   "execution_count": null,
   "metadata": {},
   "outputs": [],
   "source": [
    "#list comprehensions"
   ]
  },
  {
   "cell_type": "code",
   "execution_count": null,
   "metadata": {},
   "outputs": [],
   "source": [
    "x = int(input())\n",
    "y = int(input())\n",
    "z = int(input())\n",
    "N = int(input())\n",
    "arr = [[X, Y, Z] for X in range(x+1) for Y in range(y+1) for Z in range(z+1) if X + Y + Z != N]\n",
    "print(arr)"
   ]
  },
  {
   "cell_type": "code",
   "execution_count": null,
   "metadata": {},
   "outputs": [],
   "source": [
    "#nested lists"
   ]
  },
  {
   "cell_type": "code",
   "execution_count": null,
   "metadata": {},
   "outputs": [],
   "source": [
    "score = []\n",
    "for __ in range(0,int(input())):\n",
    "    score.append([input(), float(input())])\n",
    "second_highest = sorted(list(set([marks for name, marks in score])))[1]\n",
    "print('\\n'.join([a for a,b in sorted(score) if b == second_highest]))"
   ]
  },
  {
   "cell_type": "code",
   "execution_count": null,
   "metadata": {},
   "outputs": [],
   "source": [
    "#finding the Runner up score"
   ]
  },
  {
   "cell_type": "code",
   "execution_count": null,
   "metadata": {},
   "outputs": [],
   "source": [
    "n= int(input())\n",
    "arr = input().split()\n",
    "arr1 = map(int, arr)\n",
    "arr1=set(list(arr1))\n",
    "arr1=sorted(arr1)\n",
    "print(arr1[-2])"
   ]
  },
  {
   "cell_type": "code",
   "execution_count": null,
   "metadata": {},
   "outputs": [],
   "source": [
    "#finding the percentage"
   ]
  },
  {
   "cell_type": "code",
   "execution_count": null,
   "metadata": {},
   "outputs": [],
   "source": [
    "N = int(input())\n",
    "dictionary = {} \n",
    "for i in range(0, N): \n",
    "    arr = input().split()\n",
    "    marks = list(map(float, arr[1:])) \n",
    "    dictionary[arr[0]] = sum(marks)/float(len(marks))\n",
    "print(\"%.2f\" % dictionary[input()]) "
   ]
  },
  {
   "cell_type": "code",
   "execution_count": null,
   "metadata": {},
   "outputs": [],
   "source": [
    "#Lists"
   ]
  },
  {
   "cell_type": "code",
   "execution_count": null,
   "metadata": {},
   "outputs": [],
   "source": [
    "N = int(input())\n",
    "arr = []\n",
    "\n",
    "while N != 0:\n",
    "    a = input().split()\n",
    "\n",
    "    if len(a) == 3:\n",
    "        b = int(a[1])\n",
    "        c = int(a[2])\n",
    "    elif len(a) == 2:\n",
    "        b = int(a[1])\n",
    "\n",
    "    if a[0] == \"insert\":\n",
    "        arr.insert(b,c)\n",
    "    elif a[0] == \"print\":\n",
    "        print(arr)\n",
    "    elif a[0] == \"remove\":\n",
    "        arr.remove(b)\n",
    "    elif a[0] == \"append\":\n",
    "        arr.append(b)\n",
    "    elif a[0] == \"sort\":\n",
    "        arr.sort()\n",
    "    elif a[0] == \"pop\":\n",
    "        arr.pop()\n",
    "    elif a[0] == \"reverse\":\n",
    "        arr.reverse()\n",
    "    N = N-1"
   ]
  },
  {
   "cell_type": "code",
   "execution_count": null,
   "metadata": {},
   "outputs": [],
   "source": [
    "#tuples"
   ]
  },
  {
   "cell_type": "code",
   "execution_count": null,
   "metadata": {},
   "outputs": [],
   "source": [
    "a = int(input())\n",
    "print(hash(tuple(map(int, input().split()))))"
   ]
  },
  {
   "cell_type": "code",
   "execution_count": null,
   "metadata": {},
   "outputs": [],
   "source": [
    "#introduction to sets"
   ]
  },
  {
   "cell_type": "code",
   "execution_count": null,
   "metadata": {},
   "outputs": [],
   "source": [
    "def average(array):\n",
    " a = set(arr)\n",
    " return float(sum(a)) / len(a)\n",
    "\n",
    "if __name__ == '__main__':\n",
    "    n = int(input())\n",
    "    arr = list(map(int, input().split()))\n",
    "    result = average(arr)\n",
    "    print(result)"
   ]
  },
  {
   "cell_type": "code",
   "execution_count": null,
   "metadata": {},
   "outputs": [],
   "source": [
    "#no idea!"
   ]
  },
  {
   "cell_type": "code",
   "execution_count": null,
   "metadata": {},
   "outputs": [],
   "source": [
    "p = input().split()\n",
    "q = input().split()\n",
    "a = set(input().split())\n",
    "b = set(input().split())\n",
    "\n",
    "set_s = 0\n",
    "\n",
    "for i in q:\n",
    "    if i in a:\n",
    "        set_s = set_s + 1\n",
    "    if i in b:\n",
    "        set_s = set_s - 1\n",
    "\n",
    "print(set_s)"
   ]
  },
  {
   "cell_type": "code",
   "execution_count": null,
   "metadata": {},
   "outputs": [],
   "source": [
    "#symmetric difference"
   ]
  },
  {
   "cell_type": "code",
   "execution_count": null,
   "metadata": {},
   "outputs": [],
   "source": [
    "a = int(input())\n",
    "\n",
    "b = set(map(int, input().split()))\n",
    "\n",
    "c = int(input())\n",
    "\n",
    "d = set(map(int, input().split()))\n",
    "\n",
    "p = b.difference(d)\n",
    "q = d.difference(b)\n",
    "\n",
    "e = p.union(q)\n",
    "sol = list(e)\n",
    "sol.sort()\n",
    "for i in range(len(sol)):\n",
    "    print(sol[i])"
   ]
  },
  {
   "cell_type": "code",
   "execution_count": null,
   "metadata": {},
   "outputs": [],
   "source": [
    "# set.add()"
   ]
  },
  {
   "cell_type": "code",
   "execution_count": null,
   "metadata": {},
   "outputs": [],
   "source": [
    "n = int(input())\n",
    "\n",
    "names = set([])\n",
    "\n",
    "for i in range(n):\n",
    "    names.add(input())\n",
    "\n",
    "print(len(names))"
   ]
  },
  {
   "cell_type": "code",
   "execution_count": null,
   "metadata": {},
   "outputs": [],
   "source": [
    "#Set .discard(), .remove() & .pop()"
   ]
  },
  {
   "cell_type": "code",
   "execution_count": null,
   "metadata": {},
   "outputs": [],
   "source": [
    "n = int(input())\n",
    "s = set(map(int, input().split())) \n",
    "\n",
    "for i in range(int(input())): \n",
    "    set1 = input().split()\n",
    "    if set1[0] == 'pop':\n",
    "        s.pop()\n",
    "    elif set1[0] == 'remove':\n",
    "        s.remove(int(set1[1]))\n",
    "    elif set1[0] == 'discard':\n",
    "        s.discard(int(set1[1]))\n",
    "\n",
    "print(sum(s))"
   ]
  },
  {
   "cell_type": "code",
   "execution_count": null,
   "metadata": {},
   "outputs": [],
   "source": [
    "#Set .union() Operation"
   ]
  },
  {
   "cell_type": "code",
   "execution_count": null,
   "metadata": {},
   "outputs": [],
   "source": [
    "\n",
    "a = int(input())\n",
    "set_a = set(map(int, input().split()))\n",
    "\n",
    "b = int(input())\n",
    "set_b = set(map(int, input().split()))\n",
    "\n",
    "new_set = set_a.union(set_b)\n",
    "print(len(new_set))"
   ]
  },
  {
   "cell_type": "code",
   "execution_count": null,
   "metadata": {},
   "outputs": [],
   "source": [
    "#Set .intersection() Operation"
   ]
  },
  {
   "cell_type": "code",
   "execution_count": null,
   "metadata": {},
   "outputs": [],
   "source": [
    "a = int(input())\n",
    "set_a = set(map(int, input().split()))\n",
    "\n",
    "b = int(input())\n",
    "set_b = set(map(int, input().split()))\n",
    "\n",
    "new_set = set_a.intersection(set_b)\n",
    "print(len(new_set))"
   ]
  },
  {
   "cell_type": "code",
   "execution_count": null,
   "metadata": {},
   "outputs": [],
   "source": [
    "#Set .difference() Operation"
   ]
  },
  {
   "cell_type": "code",
   "execution_count": null,
   "metadata": {},
   "outputs": [],
   "source": [
    "a = int(input())\n",
    "set_a = set(map(int, input().split()))\n",
    "\n",
    "b = int(input())\n",
    "set_b = set(map(int, input().split()))\n",
    "\n",
    "new_set = set_a.difference(set_b)\n",
    "print(len(new_set))"
   ]
  },
  {
   "cell_type": "code",
   "execution_count": null,
   "metadata": {},
   "outputs": [],
   "source": [
    "#Set .symmetric_difference() Operation"
   ]
  },
  {
   "cell_type": "code",
   "execution_count": null,
   "metadata": {},
   "outputs": [],
   "source": [
    "A= int(input())\n",
    "set_a = set(map(int, input().split()))\n",
    "\n",
    "B = int(input())\n",
    "set_b = set(map(int, input().split()))\n",
    "\n",
    "print(len(set_a.symmetric_difference(set_b)))"
   ]
  },
  {
   "cell_type": "code",
   "execution_count": null,
   "metadata": {},
   "outputs": [],
   "source": [
    "#Set Mutations"
   ]
  },
  {
   "cell_type": "code",
   "execution_count": null,
   "metadata": {},
   "outputs": [],
   "source": [
    "a = int(input())\n",
    "set_a = set(map(int, input().split()))\n",
    "n = int(input())\n",
    "\n",
    "for n in range(n):\n",
    "    operation = input().split()\n",
    "    new_set = set(map(int, input().split()))\n",
    "    eval('set_a.{}({})'.format(operation[0], new_set))\n",
    "\n",
    "print(sum(set_a))"
   ]
  },
  {
   "cell_type": "code",
   "execution_count": null,
   "metadata": {},
   "outputs": [],
   "source": [
    "#The Captain's Room"
   ]
  },
  {
   "cell_type": "code",
   "execution_count": null,
   "metadata": {},
   "outputs": [],
   "source": [
    "n= input()\n",
    "room_nums = input().split()\n",
    "room_set = set(room_nums)\n",
    "\n",
    "for i in list(room_set):\n",
    "    room_nums.remove(i)\n",
    "\n",
    "captains_room_num = room_set.difference(set(room_nums)).pop()\n",
    "print(captains_room_num)"
   ]
  },
  {
   "cell_type": "code",
   "execution_count": null,
   "metadata": {},
   "outputs": [],
   "source": [
    "#Check Subset"
   ]
  },
  {
   "cell_type": "code",
   "execution_count": null,
   "metadata": {},
   "outputs": [],
   "source": [
    "for i in range(int(input())):\n",
    "    a = int(input())\n",
    "    set_a = set(map(int, input().split()))\n",
    "\n",
    "    b = int(input())\n",
    "    set_b = set(map(int, input().split()))\n",
    "\n",
    "    if len(set_a - set_b) == 0:\n",
    "        print(\"True\")\n",
    "    else:\n",
    "        print(\"False\")"
   ]
  },
  {
   "cell_type": "code",
   "execution_count": null,
   "metadata": {},
   "outputs": [],
   "source": [
    "#Check Strict Superset"
   ]
  },
  {
   "cell_type": "code",
   "execution_count": null,
   "metadata": {},
   "outputs": [],
   "source": [
    "a = set(input().split())\n",
    "count = 0\n",
    "value = 0\n",
    "\n",
    "for i in range(int(input())):\n",
    "    if a.issuperset(set(input().split())):\n",
    "        count = count+1\n",
    "    else:\n",
    "        value = value+1\n",
    "if value != 0:\n",
    "    print('False')\n",
    "else:\n",
    "    print('True')"
   ]
  }
 ],
 "metadata": {
  "kernelspec": {
   "display_name": "Python 3",
   "language": "python",
   "name": "python3"
  },
  "language_info": {
   "codemirror_mode": {
    "name": "ipython",
    "version": 3
   },
   "file_extension": ".py",
   "mimetype": "text/x-python",
   "name": "python",
   "nbconvert_exporter": "python",
   "pygments_lexer": "ipython3",
   "version": "3.8.5"
  },
  "toc": {
   "base_numbering": 1,
   "nav_menu": {},
   "number_sections": true,
   "sideBar": true,
   "skip_h1_title": false,
   "title_cell": "Table of Contents",
   "title_sidebar": "Contents",
   "toc_cell": false,
   "toc_position": {},
   "toc_section_display": true,
   "toc_window_display": false
  }
 },
 "nbformat": 4,
 "nbformat_minor": 4
}
